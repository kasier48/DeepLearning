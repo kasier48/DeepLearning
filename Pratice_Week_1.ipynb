{
  "nbformat": 4,
  "nbformat_minor": 0,
  "metadata": {
    "colab": {
      "provenance": [],
      "toc_visible": true,
      "authorship_tag": "ABX9TyPdkl0Cpl5jnbhD4CH8a5nQ",
      "include_colab_link": true
    },
    "kernelspec": {
      "name": "python3",
      "display_name": "Python 3"
    },
    "language_info": {
      "name": "python"
    }
  },
  "cells": [
    {
      "cell_type": "markdown",
      "metadata": {
        "id": "view-in-github",
        "colab_type": "text"
      },
      "source": [
        "<a href=\"https://colab.research.google.com/github/kasier48/DeepLearning/blob/main/Pratice_Week_1.ipynb\" target=\"_parent\"><img src=\"https://colab.research.google.com/assets/colab-badge.svg\" alt=\"Open In Colab\"/></a>"
      ]
    },
    {
      "cell_type": "markdown",
      "source": [
        "# [1주차] 기본과제: MNIST를 분류 모델로 학습하기"
      ],
      "metadata": {
        "id": "dBpVv4SkCzDU"
      }
    },
    {
      "cell_type": "markdown",
      "source": [
        "- [ ]  Test data 준비하기\n",
        "    - Test data는 MNIST의 train data를 load하는 코드에서 `train=False`로 두면 됩니다.\n",
        "    - Train data와 마찬가지로 test data에 대한 data loader를 생성해주시면 됩니다(batch size는 동일하게 적용).\n",
        "        - Test data는 랜덤하게 섞일 필요가 없기 때문에 `shuffle=False`로 설정합니다.\n",
        "- [ ]  `nn.CrossEntropyLoss` 적용하기\n",
        "    - 현재 코드는 regression model을 구현한 상태로, MSE를 loss로 사용하고 있습니다.\n",
        "    - 하지만 MNIST와 같은 분류 문제에서는 MSE는 적합하지 않습니다.\n",
        "        - MSE에 따르면 1에 해당하는 손글씨 이미지는 7에 해당하는 손글씨 이미지보다 0에 해당하는 손글씨 이미지가 더 가깝게 여겨집니다.\n",
        "        - 하지만 1은 실제로 0보다 7과 더 비슷하게 생겼습니다.\n",
        "    - 일반적으로 분류 문제는 MSE 대신 cross entropy loss를 사용합니다.\n",
        "    - PyTorch에서의 [cross entropy loss 문서](https://pytorch.org/docs/stable/generated/torch.nn.CrossEntropyLoss.html) 또는 [웹 자료](https://uumini.tistory.com/54)들을 통해 이해한 후, MSE를 대체하는 코드를 구현하시면 됩니다.\n",
        "        - 변경되어야 할 점은 2가지로 i) `Model`의 최종 output의 dimension과 ii) `loss` 계산 부분입니다.\n",
        "- [ ]  학습을 진행한 후, epoch에 따른 model의 train과 test data에 대한 정확도 plot하기\n",
        "    - 다음 조건들 아래에서 학습을 진행하면 됩니다.\n",
        "        - `n_epochs`=100, `batch_size`=256, `lr`=0.001."
      ],
      "metadata": {
        "id": "QuAY0pLDC16a"
      }
    },
    {
      "cell_type": "code",
      "execution_count": 1,
      "metadata": {
        "id": "dxM8U136knwV",
        "colab": {
          "base_uri": "https://localhost:8080/",
          "height": 1000
        },
        "outputId": "55b402c7-32d3-4d97-e413-0dab72f57b30"
      },
      "outputs": [
        {
          "output_type": "stream",
          "name": "stdout",
          "text": [
            "Downloading http://yann.lecun.com/exdb/mnist/train-images-idx3-ubyte.gz\n",
            "Failed to download (trying next):\n",
            "HTTP Error 403: Forbidden\n",
            "\n",
            "Downloading https://ossci-datasets.s3.amazonaws.com/mnist/train-images-idx3-ubyte.gz\n",
            "Downloading https://ossci-datasets.s3.amazonaws.com/mnist/train-images-idx3-ubyte.gz to ./data/MNIST/raw/train-images-idx3-ubyte.gz\n"
          ]
        },
        {
          "output_type": "stream",
          "name": "stderr",
          "text": [
            "100%|██████████| 9.91M/9.91M [00:00<00:00, 34.6MB/s]\n"
          ]
        },
        {
          "output_type": "stream",
          "name": "stdout",
          "text": [
            "Extracting ./data/MNIST/raw/train-images-idx3-ubyte.gz to ./data/MNIST/raw\n",
            "\n",
            "Downloading http://yann.lecun.com/exdb/mnist/train-labels-idx1-ubyte.gz\n",
            "Failed to download (trying next):\n",
            "HTTP Error 403: Forbidden\n",
            "\n",
            "Downloading https://ossci-datasets.s3.amazonaws.com/mnist/train-labels-idx1-ubyte.gz\n",
            "Downloading https://ossci-datasets.s3.amazonaws.com/mnist/train-labels-idx1-ubyte.gz to ./data/MNIST/raw/train-labels-idx1-ubyte.gz\n"
          ]
        },
        {
          "output_type": "stream",
          "name": "stderr",
          "text": [
            "100%|██████████| 28.9k/28.9k [00:00<00:00, 1.23MB/s]\n"
          ]
        },
        {
          "output_type": "stream",
          "name": "stdout",
          "text": [
            "Extracting ./data/MNIST/raw/train-labels-idx1-ubyte.gz to ./data/MNIST/raw\n",
            "\n",
            "Downloading http://yann.lecun.com/exdb/mnist/t10k-images-idx3-ubyte.gz\n",
            "Failed to download (trying next):\n",
            "HTTP Error 403: Forbidden\n",
            "\n",
            "Downloading https://ossci-datasets.s3.amazonaws.com/mnist/t10k-images-idx3-ubyte.gz\n",
            "Downloading https://ossci-datasets.s3.amazonaws.com/mnist/t10k-images-idx3-ubyte.gz to ./data/MNIST/raw/t10k-images-idx3-ubyte.gz\n"
          ]
        },
        {
          "output_type": "stream",
          "name": "stderr",
          "text": [
            "100%|██████████| 1.65M/1.65M [00:00<00:00, 11.0MB/s]\n"
          ]
        },
        {
          "output_type": "stream",
          "name": "stdout",
          "text": [
            "Extracting ./data/MNIST/raw/t10k-images-idx3-ubyte.gz to ./data/MNIST/raw\n",
            "\n",
            "Downloading http://yann.lecun.com/exdb/mnist/t10k-labels-idx1-ubyte.gz\n",
            "Failed to download (trying next):\n",
            "HTTP Error 403: Forbidden\n",
            "\n",
            "Downloading https://ossci-datasets.s3.amazonaws.com/mnist/t10k-labels-idx1-ubyte.gz\n",
            "Downloading https://ossci-datasets.s3.amazonaws.com/mnist/t10k-labels-idx1-ubyte.gz to ./data/MNIST/raw/t10k-labels-idx1-ubyte.gz\n"
          ]
        },
        {
          "output_type": "stream",
          "name": "stderr",
          "text": [
            "100%|██████████| 4.54k/4.54k [00:00<00:00, 8.35MB/s]\n"
          ]
        },
        {
          "output_type": "stream",
          "name": "stdout",
          "text": [
            "Extracting ./data/MNIST/raw/t10k-labels-idx1-ubyte.gz to ./data/MNIST/raw\n",
            "\n",
            "train_dataset len: 60000\n",
            "train size: torch.Size([1, 28, 28])\n",
            "Epoch:   0 | Lost: 532.263209104538\n",
            "Epoch:   1 | Lost: 511.4640564918518\n",
            "Epoch:   2 | Lost: 488.6653949022293\n",
            "Epoch:   3 | Lost: 461.3886886835098\n",
            "Epoch:   4 | Lost: 428.65773832798004\n",
            "Epoch:   5 | Lost: 391.07946372032166\n",
            "Epoch:   6 | Lost: 351.2244052886963\n",
            "Epoch:   7 | Lost: 312.58079838752747\n",
            "Epoch:   8 | Lost: 277.7123236656189\n",
            "Epoch:   9 | Lost: 248.00300550460815\n",
            "Epoch:  10 | Lost: 223.5888211131096\n",
            "Epoch:  11 | Lost: 203.53455686569214\n",
            "Epoch:  12 | Lost: 187.33030200004578\n",
            "Epoch:  13 | Lost: 174.03376871347427\n",
            "Epoch:  14 | Lost: 163.0356988310814\n",
            "Epoch:  15 | Lost: 153.84222275018692\n",
            "Epoch:  16 | Lost: 146.1312359571457\n",
            "Epoch:  17 | Lost: 139.508789986372\n",
            "Epoch:  18 | Lost: 133.8593189418316\n",
            "Epoch:  19 | Lost: 128.8301320374012\n",
            "Epoch:  20 | Lost: 124.56808531284332\n",
            "Epoch:  21 | Lost: 120.68733778595924\n",
            "Epoch:  22 | Lost: 117.2725448012352\n",
            "Epoch:  23 | Lost: 114.27701485157013\n",
            "Epoch:  24 | Lost: 111.58748254179955\n",
            "Epoch:  25 | Lost: 109.06643089652061\n",
            "Epoch:  26 | Lost: 106.83285549283028\n",
            "Epoch:  27 | Lost: 104.83436965942383\n",
            "Epoch:  28 | Lost: 102.91933247447014\n",
            "Epoch:  29 | Lost: 101.27066576480865\n",
            "Epoch:  30 | Lost: 99.75451773405075\n",
            "Epoch:  31 | Lost: 98.22561225295067\n",
            "Epoch:  32 | Lost: 96.90566822886467\n",
            "Epoch:  33 | Lost: 95.67728647589684\n",
            "Epoch:  34 | Lost: 94.61486619710922\n",
            "Epoch:  35 | Lost: 93.41250649094582\n",
            "Epoch:  36 | Lost: 92.37376976013184\n",
            "Epoch:  37 | Lost: 91.44192001223564\n",
            "Epoch:  38 | Lost: 90.42242258787155\n",
            "Epoch:  39 | Lost: 89.57480674982071\n",
            "Epoch:  40 | Lost: 88.78024423122406\n",
            "Epoch:  41 | Lost: 88.04462093114853\n",
            "Epoch:  42 | Lost: 87.2829509973526\n",
            "Epoch:  43 | Lost: 86.47212472558022\n",
            "Epoch:  44 | Lost: 85.83035299181938\n",
            "Epoch:  45 | Lost: 85.15997219085693\n",
            "Epoch:  46 | Lost: 84.5412871837616\n",
            "Epoch:  47 | Lost: 84.08082348108292\n",
            "Epoch:  48 | Lost: 83.46484345197678\n",
            "Epoch:  49 | Lost: 82.86350047588348\n",
            "Epoch:  50 | Lost: 82.3006503880024\n",
            "Epoch:  51 | Lost: 81.77357469499111\n",
            "Epoch:  52 | Lost: 81.23175175487995\n",
            "Epoch:  53 | Lost: 80.82863906025887\n",
            "Epoch:  54 | Lost: 80.33967931568623\n",
            "Epoch:  55 | Lost: 79.86772738397121\n",
            "Epoch:  56 | Lost: 79.42556238174438\n",
            "Epoch:  57 | Lost: 79.06009432673454\n",
            "Epoch:  58 | Lost: 78.72736448049545\n",
            "Epoch:  59 | Lost: 78.25694608688354\n",
            "Epoch:  60 | Lost: 77.74903583526611\n",
            "Epoch:  61 | Lost: 77.46632224321365\n",
            "Epoch:  62 | Lost: 77.06243345141411\n",
            "Epoch:  63 | Lost: 76.67740793526173\n",
            "Epoch:  64 | Lost: 76.33035831153393\n",
            "Epoch:  65 | Lost: 76.02644945681095\n",
            "Epoch:  66 | Lost: 75.66085170209408\n",
            "Epoch:  67 | Lost: 75.42162950336933\n",
            "Epoch:  68 | Lost: 74.98647239804268\n",
            "Epoch:  69 | Lost: 74.60164387524128\n",
            "Epoch:  70 | Lost: 74.4630519747734\n",
            "Epoch:  71 | Lost: 74.06639194488525\n",
            "Epoch:  72 | Lost: 73.79707190394402\n",
            "Epoch:  73 | Lost: 73.4606035798788\n",
            "Epoch:  74 | Lost: 73.23412224650383\n",
            "Epoch:  75 | Lost: 72.89825549721718\n",
            "Epoch:  76 | Lost: 72.59397305548191\n",
            "Epoch:  77 | Lost: 72.3957766443491\n",
            "Epoch:  78 | Lost: 72.13258516788483\n",
            "Epoch:  79 | Lost: 71.92254757881165\n",
            "Epoch:  80 | Lost: 71.55543622374535\n",
            "Epoch:  81 | Lost: 71.35960280895233\n",
            "Epoch:  82 | Lost: 71.07553851604462\n",
            "Epoch:  83 | Lost: 70.81364625692368\n",
            "Epoch:  84 | Lost: 70.66416789591312\n",
            "Epoch:  85 | Lost: 70.35891184210777\n",
            "Epoch:  86 | Lost: 70.06596937775612\n",
            "Epoch:  87 | Lost: 69.85081852972507\n",
            "Epoch:  88 | Lost: 69.57812070846558\n",
            "Epoch:  89 | Lost: 69.34981428086758\n",
            "Epoch:  90 | Lost: 69.21104837954044\n",
            "Epoch:  91 | Lost: 68.88073399662971\n",
            "Epoch:  92 | Lost: 68.68381789326668\n",
            "Epoch:  93 | Lost: 68.55485005676746\n",
            "Epoch:  94 | Lost: 68.2805869281292\n",
            "Epoch:  95 | Lost: 68.07073338329792\n",
            "Epoch:  96 | Lost: 67.8577981442213\n",
            "Epoch:  97 | Lost: 67.60902166366577\n",
            "Epoch:  98 | Lost: 67.46479021012783\n",
            "Epoch:  99 | Lost: 67.19687619805336\n"
          ]
        },
        {
          "output_type": "display_data",
          "data": {
            "text/plain": [
              "<Figure size 640x480 with 1 Axes>"
            ],
            "image/png": "[encoded data removed]"
          },
          "metadata": {}
        }
      ],
      "source": [
        "import torch\n",
        "import torch.nn as nn\n",
        "import torch.optim as optim\n",
        "import numpy as np\n",
        "from torch.utils.data import DataLoader\n",
        "from torchvision import datasets, transforms\n",
        "from matplotlib import pyplot as plt\n",
        "\n",
        "device = torch.device('cpu')\n",
        "\n",
        "def accuracy(model, dataloader):\n",
        "  cnt = 0\n",
        "  acc = 0\n",
        "\n",
        "  for data in dataloader:\n",
        "    inputs, labels = data\n",
        "    inputs, labels = inputs.to(device), labels.to(device)\n",
        "\n",
        "    preds = model(inputs)\n",
        "    preds = torch.argmax(preds, dim=-1)\n",
        "\n",
        "    cnt += labels.shape[0]\n",
        "    acc += (labels == preds).sum().item()\n",
        "\n",
        "  return acc / cnt\n",
        "\n",
        "def plot_acc(train_accs, test_accs, label1='train', label2='test'):\n",
        "  x = np.arange(len(train_accs))\n",
        "\n",
        "  plt.plot(x, train_accs, label=label1)\n",
        "  plt.plot(x, test_accs, label=label2)\n",
        "  plt.legend()\n",
        "  plt.show()\n",
        "\n",
        "# [MYCODE] 데이터 전처리: 이미지를 텐서로 변환하고 정규화\n",
        "transform = transforms.Compose([\n",
        "    transforms.ToTensor(),\n",
        "    transforms.Normalize((0.5,), (0.5,))  # MNIST의 평균과 표준편차 적용\n",
        "])\n",
        "\n",
        "# [MYCODE] MNIST 데이터셋 불러오기\n",
        "train_dataset = datasets.MNIST(root='./data', train=True, download=True, transform=transform)\n",
        "test_dataset = datasets.MNIST(root='./data', train=False, download=True, transform=transform)\n",
        "\n",
        "print(f\"train_dataset len: {len(train_dataset)}\")\n",
        "print(f\"train size: {train_dataset[0][0].shape}\")\n",
        "plt.imshow(train_dataset[0][0][0], cmap='gray')\n",
        "\n",
        "batch_size = 256\n",
        "\n",
        "# [MYCODE] train, test에 대한 배치 사이즈에 따른 dataLoader 정의\n",
        "train_loader = DataLoader(train_dataset, batch_size=batch_size, shuffle=True)\n",
        "test_loader = DataLoader(test_dataset, batch_size=batch_size, shuffle=False)\n",
        "\n",
        "class Model(nn.Module):\n",
        "    def __init__(self, input_dim, n_dim):\n",
        "        super(Model, self).__init__()\n",
        "        self.fc1 = nn.Linear(input_dim, n_dim)\n",
        "        self.fc2 = nn.Linear(n_dim, n_dim)\n",
        "\n",
        "        # [MYCODE] 0 ~ 9의 이미지를 분류하기 때문에 10으로 설정\n",
        "        self.fc3 = nn.Linear(n_dim, 10)\n",
        "\n",
        "        self.act = nn.ReLU()\n",
        "\n",
        "    def forward(self, x):\n",
        "        x = torch.flatten(x, start_dim=1)\n",
        "        x = self.act(self.fc1(x))\n",
        "        x = self.act(self.fc2(x))\n",
        "        x = self.fc3(x)\n",
        "        return x\n",
        "\n",
        "model = Model(1 * 28 * 28, 1024).to(device)\n",
        "\n",
        "lr = 0.001\n",
        "\n",
        "# [MYCODE] 다중 클래스 분류에서 CrossEntropyLoss 사용\n",
        "criterion = nn.CrossEntropyLoss()\n",
        "optimizer = optim.SGD(model.parameters(), lr=lr)\n",
        "\n",
        "# [MYCODE] 정확도를 매 epoch 타이밍 때 마다 리스트에 저장\n",
        "train_acc_list = []\n",
        "test_acc_list = []\n",
        "num_epochs = 100\n",
        "for epoch in range(num_epochs):\n",
        "    running_loss = 0.0\n",
        "    for inputs, labels in train_loader:\n",
        "        inputs, labels = inputs.to(device), labels.to(device)\n",
        "        optimizer.zero_grad()\n",
        "\n",
        "        outputs = model(inputs)\n",
        "        loss = criterion(outputs, labels)\n",
        "        loss.backward()\n",
        "        optimizer.step()\n",
        "\n",
        "        running_loss += loss.item()\n",
        "\n",
        "    print(f\"Epoch: {epoch:3d} | Lost: {running_loss}\")\n",
        "\n",
        "    train_acc = accuracy(model, dataloader=train_loader)\n",
        "    train_acc_list.append(train_acc)\n",
        "\n",
        "    test_acc = accuracy(model, dataloader=test_loader)\n",
        "    test_acc_list.append(test_acc)\n",
        ""
      ]
    },
    {
      "cell_type": "code",
      "source": [
        "plot_acc(train_accs=train_acc_list, test_accs=test_acc_list)"
      ],
      "metadata": {
        "colab": {
          "base_uri": "https://localhost:8080/",
          "height": 430
        },
        "id": "gSZy-xKYbXWh",
        "outputId": "52c613cf-12bf-4575-8541-40cbe88609ae"
      },
      "execution_count": 2,
      "outputs": [
        {
          "output_type": "display_data",
          "data": {
            "text/plain": [
              "<Figure size 640x480 with 1 Axes>"
            ],
            "image/png": "[encoded data removed]"
          },
          "metadata": {}
        }
      ]
    },
    {
      "cell_type": "markdown",
      "source": [
        "# [1주차] 심화과제: MNIST 예측 모델에 deep learning techniques 적용하기"
      ],
      "metadata": {
        "id": "6dKmKMrxDe6v"
      }
    },
    {
      "cell_type": "markdown",
      "source": [
        "Classification model을 MNIST에 적용한 코드에서 다음 부분들을 변경하거나 추가해주시면 됩니다:\n",
        "\n",
        "- [ ]  Dataset 및 activation 함수 변경\n",
        "    - Dataset을 MNIST에서 [CIFAR10](https://pytorch.org/vision/stable/generated/torchvision.datasets.CIFAR10.html)으로 변경해줍니다.\n",
        "    - Activation 함수를 `nn.ReLU`에서 `nn.LeakyReLU`로 변경해줍니다.\n",
        "    - 학습 인자는 `n_epochs` = 50, `batch_size` = 256로 설정합니다.\n",
        "- [ ]  CIFAR10의 입력 shape 확인\n",
        "    - CIFAR10은 MNIST와 다른 입력 shape을 가지고 있습니다.\n",
        "    - 입력 shape은 model을 선언할 때 중요하기 때문에 MNIST 실습 자료에서 사용한 방식과 똑같이 shape을 확인해주시면 됩니다.\n",
        "- [ ]  SGD와 Adam 성능 비교\n",
        "    - 먼저 [Adam optimizer](https://pytorch.org/docs/stable/generated/torch.optim.Adam.html)을 사용하여 학습하는 코드를 구현합니다.\n",
        "    - (Plot 1) SGD와 Adam을 학습시킨 후 각각의 epoch에 대한 train 정확도를 plot합니다.\n",
        "- [ ]  Leaky ReLU와 Sigmoid 성능 비교\n",
        "    - Activation 함수가 `nn.Sigmoid`인 class를 새로 정의합니다.\n",
        "    - (Plot 2) Adam optimizer를 가지고 sigmoid와 leaky ReLU 모델들을 학습한 후, epoch에 따른 train 정확도를 비교합니다.\n",
        "- [ ]  Dropout을 적용한 이후의 generalization error 확인\n",
        "    - PyTorch [dropout](https://pytorch.org/docs/stable/generated/torch.nn.Dropout.html)을 leaky ReLU를 사용하는 MLP의 모든 layer에 적용한 class를 새로 정의합니다. Dropout 확률은 0.1로 설정합니다.\n",
        "    - 학습 코드에서 다음 부분들을 추가해줍니다:\n",
        "        - `model.train()`을 `for data in trainloader:` 이전 줄에 둡니다.\n",
        "        - `trainloader`와 `testloader`에 대한 정확도를 계산하는 코드를 다음과 같이 변경합니다:\n",
        "            \n",
        "            ```python\n",
        "            with torch.no_grad():\n",
        "              model.eval()\n",
        "              <기존 정확도 계산 코드>\n",
        "            ```\n",
        "            \n",
        "    - (Plot 3) Adam optimizer를 가지고 dropout을 적용한 모델을 학습한 후, epoch에 따른 train과 test 정확도를 비교합니다."
      ],
      "metadata": {
        "id": "WySmGucLDlIQ"
      }
    },
    {
      "cell_type": "code",
      "source": [
        "import torch\n",
        "import torch.nn as nn\n",
        "import torch.optim as optim\n",
        "import numpy as np\n",
        "from torch.utils.data import DataLoader\n",
        "from torchvision import datasets, transforms\n",
        "from matplotlib import pyplot as plt\n",
        "\n",
        "device = torch.device('cpu')\n",
        "\n",
        "def plot_acc(first_accs, second_accs, label1='train', label2='test'):\n",
        "  x = np.arange(len(first_accs))\n",
        "\n",
        "  plt.plot(x, first_accs, label=label1)\n",
        "  plt.plot(x, second_accs, label=label2)\n",
        "  plt.legend()\n",
        "  plt.show()\n",
        "\n",
        "# [MYCODE] 데이터 전처리: 이미지를 텐서로 변환하고 정규화\n",
        "transform = transforms.Compose([\n",
        "    transforms.ToTensor(),\n",
        "    transforms.Normalize(mean=(0.5, 0.5, 0.5), std=(0.5, 0.5, 0.5))\n",
        "])\n",
        "\n",
        "train_dataset = datasets.CIFAR10(root='./data', train=True, download=True, transform=transform)\n",
        "test_dataset = datasets.CIFAR10(root='./data', train=False, download=True, transform=transform)\n",
        "\n",
        "print(f\"train_dataset len: {len(train_dataset)}\")\n",
        "print(f\"train size: {train_dataset[0][0].shape}\")\n",
        "plt.imshow(train_dataset[0][0][0], cmap='gray')\n",
        "\n",
        "batch_size = 256\n",
        "train_loader = DataLoader(train_dataset, batch_size=batch_size, shuffle=True)\n",
        "test_loader = DataLoader(test_dataset, batch_size=batch_size, shuffle=False)\n",
        "\n",
        "# [MYCODE] 10개의 이미지를 분류할 수 있는 모델 생성\n",
        "class Model(nn.Module):\n",
        "    def __init__(self, input_dim, n_dim, criterion, act, dropoutProbability = 0.0):\n",
        "        super(Model, self).__init__()\n",
        "\n",
        "        self.criterion = criterion\n",
        "\n",
        "        self.fc1 = nn.Linear(input_dim, n_dim)\n",
        "        self.fc2 = nn.Linear(n_dim, n_dim)\n",
        "        self.fc3 = nn.Linear(n_dim, 10)\n",
        "\n",
        "        self.dropout = nn.Dropout(p=dropoutProbability)\n",
        "        self.act = act\n",
        "\n",
        "    def forward(self, x):\n",
        "        x = torch.flatten(x, start_dim=1)\n",
        "\n",
        "        x = self.act(self.fc1(x))\n",
        "        if self.dropout.p > 0.0:\n",
        "            x = self.dropout(x)\n",
        "\n",
        "        x = self.act(self.fc2(x))\n",
        "        if (self.dropout.p > 0.0):\n",
        "            x = self.dropout(x)\n",
        "\n",
        "        x = self.fc3(x)\n",
        "        return x\n",
        "\n",
        "    def learn(self, num_epochs, train_loader, optimizer):\n",
        "        acc_list = []\n",
        "\n",
        "        for epoch in range(num_epochs):\n",
        "            running_loss = self.__learn_internal(optimizer=optimizer, train_loader=train_loader)\n",
        "            print(f\"Epoch: {epoch:3d} | Lost: {running_loss}\")\n",
        "\n",
        "            acc = self.__accuracy(dataloader=train_loader)\n",
        "            acc_list.append(acc)\n",
        "\n",
        "        return acc_list\n",
        "\n",
        "    def learn_with_test(self, num_epochs, optimizer, train_loader, test_loader):\n",
        "        train_acc_list = []\n",
        "        test_acc_list = []\n",
        "\n",
        "        for epoch in range(num_epochs):\n",
        "            running_loss = self.__learn_internal(optimizer=optimizer, train_loader=train_loader)\n",
        "            print(f\"Epoch: {epoch:3d} | Lost: {running_loss}\")\n",
        "\n",
        "            train_acc = self.__accuracy(dataloader=train_loader)\n",
        "            train_acc_list.append(train_acc)\n",
        "\n",
        "            test_acc = self.__accuracy(dataloader=test_loader)\n",
        "            test_acc_list.append(test_acc)\n",
        "\n",
        "        return (train_acc_list, test_acc_list)\n",
        "\n",
        "    def __learn_internal(self, optimizer, train_loader):\n",
        "        running_loss = 0.0\n",
        "        if self.dropout.p > 0.0:\n",
        "            self.train()\n",
        "\n",
        "        for inputs, labels in train_loader:\n",
        "            inputs, labels = inputs.to(device), labels.to(device)\n",
        "            optimizer.zero_grad()\n",
        "\n",
        "            outputs = self(inputs)\n",
        "            loss = self.criterion(outputs, labels)\n",
        "            loss.backward()\n",
        "\n",
        "            optimizer.step()\n",
        "\n",
        "            running_loss += loss.item()\n",
        "\n",
        "        return running_loss\n",
        "\n",
        "    def __accuracy(self, dataloader):\n",
        "        cnt = 0\n",
        "        acc = 0\n",
        "\n",
        "        if self.dropout.p > 0.0:\n",
        "           self.dropout.eval()\n",
        "\n",
        "        with torch.no_grad():\n",
        "            for data in dataloader:\n",
        "                inputs, labels = data\n",
        "                inputs, labels = inputs.to(device), labels.to(device)\n",
        "\n",
        "                preds = self(inputs)\n",
        "                preds = torch.argmax(preds, dim=-1)\n",
        "\n",
        "                cnt += labels.shape[0]\n",
        "                acc += (labels == preds).sum().item()\n",
        "\n",
        "        return acc / cnt\n",
        "\n",
        "# [MYCODE] epochs, input_dim 적절한 값으로 조정\n",
        "lr = 0.001\n",
        "num_epochs = 50\n",
        "criterion = nn.CrossEntropyLoss()\n",
        "input_dim = 3 * 32 * 32"
      ],
      "metadata": {
        "colab": {
          "base_uri": "https://localhost:8080/",
          "height": 542
        },
        "id": "UO5y8hSUCUe4",
        "outputId": "2aec3216-3ede-4372-865f-db5813bbf9a3"
      },
      "execution_count": 3,
      "outputs": [
        {
          "output_type": "stream",
          "name": "stdout",
          "text": [
            "Downloading https://www.cs.toronto.edu/~kriz/cifar-10-python.tar.gz to ./data/cifar-10-python.tar.gz\n"
          ]
        },
        {
          "output_type": "stream",
          "name": "stderr",
          "text": [
            "100%|██████████| 170M/170M [00:04<00:00, 41.2MB/s]\n"
          ]
        },
        {
          "output_type": "stream",
          "name": "stdout",
          "text": [
            "Extracting ./data/cifar-10-python.tar.gz to ./data\n",
            "Files already downloaded and verified\n",
            "train_dataset len: 50000\n",
            "train size: torch.Size([3, 32, 32])\n"
          ]
        },
        {
          "output_type": "display_data",
          "data": {
            "text/plain": [
              "<Figure size 640x480 with 1 Axes>"
            ],
            "image/png": "[encoded data removed]"
          },
          "metadata": {}
        }
      ]
    },
    {
      "cell_type": "code",
      "source": [
        "# [MYCODE] SGD, Adam 간의 정확도 비교\n",
        "act = nn.ReLU()\n",
        "model = Model(input_dim=input_dim, n_dim=1024, criterion=criterion, act=act).to(device)\n",
        "\n",
        "optimizer = optim.SGD(params=model.parameters(), lr=lr)\n",
        "sgd_acc_list = model.learn(num_epochs=num_epochs, train_loader=train_loader, optimizer=optimizer)\n",
        "\n",
        "optimizer = optim.Adam(params=model.parameters(), lr=lr)\n",
        "adam_acc_list = model.learn(num_epochs=num_epochs, train_loader=train_loader, optimizer=optimizer)\n",
        "\n",
        "plot_acc(first_accs=sgd_acc_list, second_accs=adam_acc_list, label1=\"SGD\", label2=\"Adam\")"
      ],
      "metadata": {
        "colab": {
          "base_uri": "https://localhost:8080/",
          "height": 1000
        },
        "id": "WbyNDf1uDwpG",
        "outputId": "209e2fa6-d804-48ff-dcbe-a51bc9f484c8"
      },
      "execution_count": 4,
      "outputs": [
        {
          "output_type": "stream",
          "name": "stdout",
          "text": [
            "Epoch:   0 | Lost: 449.47760677337646\n",
            "Epoch:   1 | Lost: 445.850013256073\n",
            "Epoch:   2 | Lost: 442.29927945137024\n",
            "Epoch:   3 | Lost: 438.7217297554016\n",
            "Epoch:   4 | Lost: 435.0110957622528\n",
            "Epoch:   5 | Lost: 431.2229890823364\n",
            "Epoch:   6 | Lost: 427.3714714050293\n",
            "Epoch:   7 | Lost: 423.5003550052643\n",
            "Epoch:   8 | Lost: 419.7159221172333\n",
            "Epoch:   9 | Lost: 416.09227776527405\n",
            "Epoch:  10 | Lost: 412.6456391811371\n",
            "Epoch:  11 | Lost: 409.2938416004181\n",
            "Epoch:  12 | Lost: 406.2396538257599\n",
            "Epoch:  13 | Lost: 403.2073711156845\n",
            "Epoch:  14 | Lost: 400.2281656265259\n",
            "Epoch:  15 | Lost: 397.4853392839432\n",
            "Epoch:  16 | Lost: 394.90538585186005\n",
            "Epoch:  17 | Lost: 392.2841387987137\n",
            "Epoch:  18 | Lost: 389.9474002122879\n",
            "Epoch:  19 | Lost: 387.4313099384308\n",
            "Epoch:  20 | Lost: 385.26748871803284\n",
            "Epoch:  21 | Lost: 383.12019860744476\n",
            "Epoch:  22 | Lost: 380.9403820037842\n",
            "Epoch:  23 | Lost: 378.8979539871216\n",
            "Epoch:  24 | Lost: 377.0343806743622\n",
            "Epoch:  25 | Lost: 375.0896147489548\n",
            "Epoch:  26 | Lost: 373.2485463619232\n",
            "Epoch:  27 | Lost: 371.5560704469681\n",
            "Epoch:  28 | Lost: 369.88052678108215\n",
            "Epoch:  29 | Lost: 368.322905421257\n",
            "Epoch:  30 | Lost: 366.7071068286896\n",
            "Epoch:  31 | Lost: 365.2319686412811\n",
            "Epoch:  32 | Lost: 363.7242681980133\n",
            "Epoch:  33 | Lost: 362.3290057182312\n",
            "Epoch:  34 | Lost: 360.8451099395752\n",
            "Epoch:  35 | Lost: 359.5904725790024\n",
            "Epoch:  36 | Lost: 358.27343904972076\n",
            "Epoch:  37 | Lost: 357.0429503917694\n",
            "Epoch:  38 | Lost: 355.77113568782806\n",
            "Epoch:  39 | Lost: 354.667271733284\n",
            "Epoch:  40 | Lost: 353.3735452890396\n",
            "Epoch:  41 | Lost: 352.2950644493103\n",
            "Epoch:  42 | Lost: 351.28971338272095\n",
            "Epoch:  43 | Lost: 350.186500787735\n",
            "Epoch:  44 | Lost: 349.12646067142487\n",
            "Epoch:  45 | Lost: 348.1312290430069\n",
            "Epoch:  46 | Lost: 347.2081617116928\n",
            "Epoch:  47 | Lost: 346.1875981092453\n",
            "Epoch:  48 | Lost: 345.18469297885895\n",
            "Epoch:  49 | Lost: 344.2588242292404\n",
            "Epoch:   0 | Lost: 320.8359749317169\n",
            "Epoch:   1 | Lost: 274.6509236097336\n",
            "Epoch:   2 | Lost: 250.0831425189972\n",
            "Epoch:   3 | Lost: 229.2116982936859\n",
            "Epoch:   4 | Lost: 209.3697646856308\n",
            "Epoch:   5 | Lost: 191.09111714363098\n",
            "Epoch:   6 | Lost: 170.92978650331497\n",
            "Epoch:   7 | Lost: 151.04449743032455\n",
            "Epoch:   8 | Lost: 132.35449343919754\n",
            "Epoch:   9 | Lost: 113.69179105758667\n",
            "Epoch:  10 | Lost: 97.37165209650993\n",
            "Epoch:  11 | Lost: 82.04799991846085\n",
            "Epoch:  12 | Lost: 73.1364175081253\n",
            "Epoch:  13 | Lost: 61.173839285969734\n",
            "Epoch:  14 | Lost: 55.270556673407555\n",
            "Epoch:  15 | Lost: 49.76439234614372\n",
            "Epoch:  16 | Lost: 45.65063389390707\n",
            "Epoch:  17 | Lost: 43.95904350280762\n",
            "Epoch:  18 | Lost: 34.46694980561733\n",
            "Epoch:  19 | Lost: 34.593383092433214\n",
            "Epoch:  20 | Lost: 33.95451000332832\n",
            "Epoch:  21 | Lost: 30.978505678474903\n",
            "Epoch:  22 | Lost: 33.45481801778078\n",
            "Epoch:  23 | Lost: 31.442793108522892\n",
            "Epoch:  24 | Lost: 29.20090353861451\n",
            "Epoch:  25 | Lost: 25.769452698528767\n",
            "Epoch:  26 | Lost: 23.43127305060625\n",
            "Epoch:  27 | Lost: 26.920975223183632\n",
            "Epoch:  28 | Lost: 26.884857289493084\n",
            "Epoch:  29 | Lost: 26.07063129544258\n",
            "Epoch:  30 | Lost: 24.56553766876459\n",
            "Epoch:  31 | Lost: 26.470544461160898\n",
            "Epoch:  32 | Lost: 23.86685860157013\n",
            "Epoch:  33 | Lost: 24.525857377797365\n",
            "Epoch:  34 | Lost: 21.12237384915352\n",
            "Epoch:  35 | Lost: 16.290938770398498\n",
            "Epoch:  36 | Lost: 20.722822353243828\n",
            "Epoch:  37 | Lost: 22.752710320055485\n",
            "Epoch:  38 | Lost: 25.7131622210145\n",
            "Epoch:  39 | Lost: 21.266209544613957\n",
            "Epoch:  40 | Lost: 20.911395946517587\n",
            "Epoch:  41 | Lost: 20.183772461488843\n",
            "Epoch:  42 | Lost: 20.95561283454299\n",
            "Epoch:  43 | Lost: 18.80975767597556\n",
            "Epoch:  44 | Lost: 20.760701132938266\n",
            "Epoch:  45 | Lost: 19.79828598164022\n",
            "Epoch:  46 | Lost: 21.108100466430187\n",
            "Epoch:  47 | Lost: 20.08268002420664\n",
            "Epoch:  48 | Lost: 19.17292456701398\n",
            "Epoch:  49 | Lost: 21.70030164346099\n"
          ]
        },
        {
          "output_type": "display_data",
          "data": {
            "text/plain": [
              "<Figure size 640x480 with 1 Axes>"
            ],
            "image/png": "[encoded data removed]"
          },
          "metadata": {}
        }
      ]
    },
    {
      "cell_type": "code",
      "source": [
        "# [MYCODE] 활성화 함수 LeakyReLU, Sigmoid 간의 정확도 비교\n",
        "act = nn.LeakyReLU()\n",
        "model = Model(input_dim=input_dim, n_dim=1024, criterion=criterion, act=act).to(device)\n",
        "optimizer = optim.Adam(params=model.parameters(), lr=lr)\n",
        "leakyReLU_acc_list = model.learn(num_epochs=num_epochs, train_loader=train_loader, optimizer=optimizer)\n",
        "\n",
        "act = nn.Sigmoid()\n",
        "model = Model(input_dim=input_dim, n_dim=1024, criterion=criterion, act=act).to(device)\n",
        "optimizer = optim.Adam(params=model.parameters(), lr=lr)\n",
        "sigmoid_acc_list = model.learn(num_epochs=num_epochs, train_loader=train_loader, optimizer=optimizer)\n",
        "\n",
        "plot_acc(first_accs=leakyReLU_acc_list, second_accs=sigmoid_acc_list, label1=\"LeakyReLU\", label2=\"Sigmoid\")"
      ],
      "metadata": {
        "colab": {
          "base_uri": "https://localhost:8080/",
          "height": 1000
        },
        "id": "OH9UXZFWDz2a",
        "outputId": "79047c6d-db09-44ee-815a-9b760499a1fb"
      },
      "execution_count": 5,
      "outputs": [
        {
          "output_type": "stream",
          "name": "stdout",
          "text": [
            "Epoch:   0 | Lost: 320.55461859703064\n",
            "Epoch:   1 | Lost: 273.9337965250015\n",
            "Epoch:   2 | Lost: 249.69027030467987\n",
            "Epoch:   3 | Lost: 228.77776843309402\n",
            "Epoch:   4 | Lost: 208.9752744436264\n",
            "Epoch:   5 | Lost: 187.44580560922623\n",
            "Epoch:   6 | Lost: 167.01446586847305\n",
            "Epoch:   7 | Lost: 147.63749998807907\n",
            "Epoch:   8 | Lost: 126.6887498497963\n",
            "Epoch:   9 | Lost: 108.53017580509186\n",
            "Epoch:  10 | Lost: 91.14189636707306\n",
            "Epoch:  11 | Lost: 76.71057593822479\n",
            "Epoch:  12 | Lost: 66.56292343139648\n",
            "Epoch:  13 | Lost: 60.23316502571106\n",
            "Epoch:  14 | Lost: 51.10922786593437\n",
            "Epoch:  15 | Lost: 47.13206726312637\n",
            "Epoch:  16 | Lost: 39.00515080243349\n",
            "Epoch:  17 | Lost: 37.97703567147255\n",
            "Epoch:  18 | Lost: 38.20671754330397\n",
            "Epoch:  19 | Lost: 33.66826944798231\n",
            "Epoch:  20 | Lost: 32.81571505218744\n",
            "Epoch:  21 | Lost: 31.55431842058897\n",
            "Epoch:  22 | Lost: 30.60960527136922\n",
            "Epoch:  23 | Lost: 30.878181599080563\n",
            "Epoch:  24 | Lost: 27.16632065922022\n",
            "Epoch:  25 | Lost: 29.36428925395012\n",
            "Epoch:  26 | Lost: 24.645445223897696\n",
            "Epoch:  27 | Lost: 23.44726449623704\n",
            "Epoch:  28 | Lost: 24.411418806761503\n",
            "Epoch:  29 | Lost: 27.725451782345772\n",
            "Epoch:  30 | Lost: 27.15189316868782\n",
            "Epoch:  31 | Lost: 23.840440046042204\n",
            "Epoch:  32 | Lost: 28.813000340014696\n",
            "Epoch:  33 | Lost: 21.82838037610054\n",
            "Epoch:  34 | Lost: 18.78377316147089\n",
            "Epoch:  35 | Lost: 15.750311098992825\n",
            "Epoch:  36 | Lost: 18.42060064524412\n",
            "Epoch:  37 | Lost: 25.308730335906148\n",
            "Epoch:  38 | Lost: 32.67427033558488\n",
            "Epoch:  39 | Lost: 20.94918923266232\n",
            "Epoch:  40 | Lost: 21.480963671579957\n",
            "Epoch:  41 | Lost: 16.12739877961576\n",
            "Epoch:  42 | Lost: 22.189829787239432\n",
            "Epoch:  43 | Lost: 22.12743790075183\n",
            "Epoch:  44 | Lost: 17.710506573319435\n",
            "Epoch:  45 | Lost: 20.032256266102195\n",
            "Epoch:  46 | Lost: 20.92480788193643\n",
            "Epoch:  47 | Lost: 22.795943055301905\n",
            "Epoch:  48 | Lost: 21.214243104681373\n",
            "Epoch:  49 | Lost: 19.032061437144876\n",
            "Epoch:   0 | Lost: 350.38825845718384\n",
            "Epoch:   1 | Lost: 304.1272393465042\n",
            "Epoch:   2 | Lost: 281.6119233369827\n",
            "Epoch:   3 | Lost: 262.09397184848785\n",
            "Epoch:   4 | Lost: 246.27794444561005\n",
            "Epoch:   5 | Lost: 228.4004386663437\n",
            "Epoch:   6 | Lost: 209.98224985599518\n",
            "Epoch:   7 | Lost: 192.88200122117996\n",
            "Epoch:   8 | Lost: 174.61376482248306\n",
            "Epoch:   9 | Lost: 156.8387234210968\n",
            "Epoch:  10 | Lost: 138.12267750501633\n",
            "Epoch:  11 | Lost: 121.60015460848808\n",
            "Epoch:  12 | Lost: 106.34124600887299\n",
            "Epoch:  13 | Lost: 93.91176134347916\n",
            "Epoch:  14 | Lost: 79.36702701449394\n",
            "Epoch:  15 | Lost: 70.3634103834629\n",
            "Epoch:  16 | Lost: 59.0732958316803\n",
            "Epoch:  17 | Lost: 49.736631482839584\n",
            "Epoch:  18 | Lost: 45.299443423748016\n",
            "Epoch:  19 | Lost: 41.85463895648718\n",
            "Epoch:  20 | Lost: 34.25868099927902\n",
            "Epoch:  21 | Lost: 31.875295400619507\n",
            "Epoch:  22 | Lost: 27.615243546664715\n",
            "Epoch:  23 | Lost: 22.634754993021488\n",
            "Epoch:  24 | Lost: 23.78886554390192\n",
            "Epoch:  25 | Lost: 22.02935115247965\n",
            "Epoch:  26 | Lost: 21.828274466097355\n",
            "Epoch:  27 | Lost: 19.177862130105495\n",
            "Epoch:  28 | Lost: 20.211893133819103\n",
            "Epoch:  29 | Lost: 17.730607334524393\n",
            "Epoch:  30 | Lost: 19.72322052717209\n",
            "Epoch:  31 | Lost: 16.144310098141432\n",
            "Epoch:  32 | Lost: 11.593853523954749\n",
            "Epoch:  33 | Lost: 14.422765532508492\n",
            "Epoch:  34 | Lost: 25.672721773386\n",
            "Epoch:  35 | Lost: 19.313871156424284\n",
            "Epoch:  36 | Lost: 13.211537312716246\n",
            "Epoch:  37 | Lost: 10.097693854942918\n",
            "Epoch:  38 | Lost: 14.08062837459147\n",
            "Epoch:  39 | Lost: 17.409018740057945\n",
            "Epoch:  40 | Lost: 13.452463570982218\n",
            "Epoch:  41 | Lost: 12.670021753758192\n",
            "Epoch:  42 | Lost: 6.820212062448263\n",
            "Epoch:  43 | Lost: 8.563373149372637\n",
            "Epoch:  44 | Lost: 12.964363821782172\n",
            "Epoch:  45 | Lost: 24.61176421120763\n",
            "Epoch:  46 | Lost: 14.601491687819362\n",
            "Epoch:  47 | Lost: 6.199236932210624\n",
            "Epoch:  48 | Lost: 5.061376132071018\n",
            "Epoch:  49 | Lost: 11.732339762151241\n"
          ]
        },
        {
          "output_type": "display_data",
          "data": {
            "text/plain": [
              "<Figure size 640x480 with 1 Axes>"
            ],
            "image/png": "[encoded data removed]"
          },
          "metadata": {}
        }
      ]
    },
    {
      "cell_type": "code",
      "source": [
        "# [MYCODE] dropout 적용한 train, test 데이터간의 정확도 비교\n",
        "act = nn.LeakyReLU()\n",
        "model = Model(input_dim=input_dim, n_dim=1024, criterion=criterion, act=act, dropoutProbability=0.1).to(device)\n",
        "optimizer = optim.Adam(params=model.parameters(), lr=lr)\n",
        "train_acc_list, test_acc_list = model.learn_with_test(num_epochs=num_epochs, optimizer=optimizer, train_loader=train_loader, test_loader=test_loader)\n",
        "\n",
        "plot_acc(first_accs=train_acc_list, second_accs=test_acc_list, label1=\"Train\", label2=\"Test\")"
      ],
      "metadata": {
        "colab": {
          "base_uri": "https://localhost:8080/"
        },
        "id": "K9Q7dRM8D2NY",
        "outputId": "895e0252-f498-4e47-c568-6baf3864aa28"
      },
      "execution_count": null,
      "outputs": [
        {
          "output_type": "stream",
          "name": "stdout",
          "text": [
            "Epoch:   0 | Lost: 322.53387439250946\n",
            "Epoch:   1 | Lost: 281.09561789035797\n",
            "Epoch:   2 | Lost: 259.1189204454422\n",
            "Epoch:   3 | Lost: 240.32948052883148\n",
            "Epoch:   4 | Lost: 225.21720778942108\n",
            "Epoch:   5 | Lost: 209.70046722888947\n",
            "Epoch:   6 | Lost: 193.97877997159958\n",
            "Epoch:   7 | Lost: 179.14108055830002\n",
            "Epoch:   8 | Lost: 166.54611843824387\n",
            "Epoch:   9 | Lost: 151.10660976171494\n",
            "Epoch:  10 | Lost: 139.59940439462662\n",
            "Epoch:  11 | Lost: 126.46024346351624\n",
            "Epoch:  12 | Lost: 114.63326400518417\n",
            "Epoch:  13 | Lost: 105.91238129138947\n",
            "Epoch:  14 | Lost: 97.67401546239853\n"
          ]
        }
      ]
    },
    {
      "cell_type": "code",
      "source": [],
      "metadata": {
        "id": "htW1L0YKb3mf"
      },
      "execution_count": null,
      "outputs": []
    }
  ]
}